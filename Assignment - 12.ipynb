{
 "cells": [
  {
   "cell_type": "markdown",
   "id": "5b4f53f7",
   "metadata": {},
   "source": [
    "# Assignment - 12"
   ]
  },
  {
   "cell_type": "markdown",
   "id": "e0d0adc1",
   "metadata": {},
   "source": [
    "1. In what modes should the PdfFileReader() and PdfFileWriter() File objects will be opened?"
   ]
  },
  {
   "cell_type": "raw",
   "id": "cc4ad80a",
   "metadata": {},
   "source": [
    "PdfFileReader() has to be opened in 'rb' mode ie., read Binary Mode\n",
    "PdfFileWriter() has to be opened in 'wb' mode ie., write Binary Mode"
   ]
  },
  {
   "cell_type": "markdown",
   "id": "5664cb19",
   "metadata": {},
   "source": [
    "2. From a PdfFileReader object, how do you get a Page object for page 5?"
   ]
  },
  {
   "cell_type": "raw",
   "id": "26085aa2",
   "metadata": {},
   "source": [
    "We have to use getPage() method from PdfFileReader object to get a page object by passing page number as parameter.\n",
    "\n",
    "Let's say to read page 5 of a PDF document, below is the code we can use.\n",
    "\n",
    "pdfReader = PyPDF2.PdfFileReader(open('encrypted.pdf', 'rb'))\n",
    "pdfReader.getPage(5) --> This will get the Page object of 5th page."
   ]
  },
  {
   "cell_type": "markdown",
   "id": "c45dc463",
   "metadata": {},
   "source": [
    "3. What PdfFileReader variable stores the number of pages in the PDF document?"
   ]
  },
  {
   "cell_type": "raw",
   "id": "fc41dff0",
   "metadata": {},
   "source": [
    "numPages is the variable which stores number of pages in PDF document"
   ]
  },
  {
   "cell_type": "markdown",
   "id": "3a89df3d",
   "metadata": {},
   "source": [
    "4. If a PdfFileReader object’s PDF is encrypted with the password swordfish, what must you do before you can obtain Page objects from it?"
   ]
  },
  {
   "cell_type": "raw",
   "id": "c9a06410",
   "metadata": {},
   "source": [
    "When PDF document is encrypted, before accessing the file we need to decrypt the file using keyword decrypt('password')\n",
    "\n",
    "pdfReader.decrypt('$password')"
   ]
  },
  {
   "cell_type": "markdown",
   "id": "44a0d66f",
   "metadata": {},
   "source": [
    "5. What methods do you use to rotate a page?"
   ]
  },
  {
   "cell_type": "raw",
   "id": "4c46468e",
   "metadata": {},
   "source": [
    "page.rotateClockwise(180)"
   ]
  },
  {
   "cell_type": "markdown",
   "id": "6172211c",
   "metadata": {},
   "source": [
    "6. What is the difference between a Run object and a Paragraph object?"
   ]
  },
  {
   "cell_type": "raw",
   "id": "56a8fa66",
   "metadata": {},
   "source": [
    "A document will have multiple paragraph objects. When User presses Enter or a new line, it will be considered as a paragraph. Each paragraph will have one or more Run objects. When the style in the paragraph changes it will be considered as a run objects and next lines comes under a different run object. Below is the example.\n",
    "\n",
    "A plain paragraph with some BOLD AND ITALIC.\n",
    "\n",
    "If BOLD and ITALIC are in Italic font, then 'A plain paragraph with some' comes under one run object and BOLD and ITALIC is considered as different run Object."
   ]
  },
  {
   "cell_type": "markdown",
   "id": "e5e1f217",
   "metadata": {},
   "source": [
    "7. How do you obtain a list of Paragraph objects for a Document object that’s stored in a variable named doc?"
   ]
  },
  {
   "cell_type": "raw",
   "id": "c4e12620",
   "metadata": {},
   "source": [
    "Use doc.paragraphs to obtain a list of Paragraph objects for a document object."
   ]
  },
  {
   "cell_type": "markdown",
   "id": "cf3e61b0",
   "metadata": {},
   "source": [
    "8. What type of object has bold, underline, italic, strike, and outline variables?"
   ]
  },
  {
   "cell_type": "raw",
   "id": "d89c4d32",
   "metadata": {},
   "source": [
    "A run object has these variables and not paragraph."
   ]
  },
  {
   "cell_type": "markdown",
   "id": "193644a0",
   "metadata": {},
   "source": [
    "9. What is the difference between False, True, and None for the bold variable?"
   ]
  },
  {
   "cell_type": "raw",
   "id": "32a0f9f7",
   "metadata": {},
   "source": [
    "True always makes run object bold and False always makes run object non-bold. None will make the run object to use style's bold setting."
   ]
  },
  {
   "cell_type": "markdown",
   "id": "11d98179",
   "metadata": {},
   "source": [
    "10. How do you create a Document object for a new Word document?"
   ]
  },
  {
   "cell_type": "raw",
   "id": "bd5dfcff",
   "metadata": {},
   "source": [
    "Using docx.Document() function."
   ]
  },
  {
   "cell_type": "markdown",
   "id": "f20f7411",
   "metadata": {},
   "source": [
    "11. How do you add a paragraph with the text 'Hello, there!' to a Document object stored in a variable named doc?"
   ]
  },
  {
   "cell_type": "raw",
   "id": "0a608a4b",
   "metadata": {},
   "source": [
    "doc.add_paragraph('Hello, there!')"
   ]
  },
  {
   "cell_type": "markdown",
   "id": "83a28fef",
   "metadata": {},
   "source": [
    "12. What integers represent the levels of headings available in Word documents?"
   ]
  },
  {
   "cell_type": "raw",
   "id": "5dcf901c",
   "metadata": {},
   "source": [
    "It is 0,1,2,3,4 which will represent the levels of headings in word document."
   ]
  }
 ],
 "metadata": {
  "kernelspec": {
   "display_name": "Python 3 (ipykernel)",
   "language": "python",
   "name": "python3"
  },
  "language_info": {
   "codemirror_mode": {
    "name": "ipython",
    "version": 3
   },
   "file_extension": ".py",
   "mimetype": "text/x-python",
   "name": "python",
   "nbconvert_exporter": "python",
   "pygments_lexer": "ipython3",
   "version": "3.9.7"
  }
 },
 "nbformat": 4,
 "nbformat_minor": 5
}
