{
 "cells": [
  {
   "cell_type": "markdown",
   "id": "b08d70bb",
   "metadata": {},
   "source": [
    "# Assignment - 8"
   ]
  },
  {
   "cell_type": "markdown",
   "id": "4ae1e285",
   "metadata": {},
   "source": [
    "1. Is the Python Standard Library included with PyInputPlus?"
   ]
  },
  {
   "cell_type": "raw",
   "id": "b7b35639",
   "metadata": {},
   "source": [
    "No. PyInputPlus is not included in Python Standard Library. If we need this library, we need to install seperately using the below command.\n",
    "\n",
    "PIP INSTALL PyInputPlus"
   ]
  },
  {
   "cell_type": "markdown",
   "id": "340f7d3a",
   "metadata": {},
   "source": [
    "2. Why is PyInputPlus commonly imported with import pyinputplus as pypi?"
   ]
  },
  {
   "cell_type": "raw",
   "id": "98b4a76b",
   "metadata": {},
   "source": [
    "pypi while importing pyinputplus module is just an alias name. While using any function or method which is present in pyinputplus module, we need to access them using pypi.method name where pypi is alias name.\n",
    "\n",
    "This alias name can be anything other than pypi. If we don't give alias name we would need to give full module name like pyinputplus.methodName which will lenthier and harder to type. So as a short cut we will define an alias name for the module so that we can use alias name in the program."
   ]
  },
  {
   "cell_type": "markdown",
   "id": "5331f41e",
   "metadata": {},
   "source": [
    "3. How do you distinguish between inputInt() and inputFloat()?"
   ]
  },
  {
   "cell_type": "raw",
   "id": "51cd4029",
   "metadata": {},
   "source": [
    "inputInt() will validate the input to be an integer whereas inputFloat() will validate the input to be a float number (will have decimal values as well)."
   ]
  },
  {
   "cell_type": "markdown",
   "id": "0e83fa3e",
   "metadata": {},
   "source": [
    "4. Using PyInputPlus, how do you ensure that the user enters a whole number between 0 and 99?"
   ]
  },
  {
   "cell_type": "raw",
   "id": "0dc22d68",
   "metadata": {},
   "source": [
    "num = inputInt('Please enter whole number between 0 and 99', min = 0, max = 99)"
   ]
  },
  {
   "cell_type": "markdown",
   "id": "08517775",
   "metadata": {},
   "source": [
    "5. What is transferred to the keyword arguments allowRegexes and blockRegexes?"
   ]
  },
  {
   "cell_type": "raw",
   "id": "bb3e3c40",
   "metadata": {},
   "source": [
    "Using allowRegexes keyword, we can allow only specific values or strings to be taken as user input.\n",
    "Using blockRegexes keyword, we can block certain values.\n",
    "\n",
    "Below are examples.\n",
    "response = pyip.inputNum(allowRegexes=[r'(I|V|X|L|C|D|M)+', r'zero'])\n",
    "The above will take only if the string contains only these alphabets present. This is case sensitive.\n",
    "\n",
    "response = pyip.inputNum(blockRegexes=[r'[02468]$'])\n",
    "The above will block any even numbers and allow only odd numbers."
   ]
  },
  {
   "cell_type": "markdown",
   "id": "71254b9d",
   "metadata": {},
   "source": [
    "6. If a blank input is entered three times, what does inputStr(limit=3) do?"
   ]
  },
  {
   "cell_type": "raw",
   "id": "cf8aa418",
   "metadata": {},
   "source": [
    "If continuously blanks is given 3 times, it will give error by stopping the execution of the program."
   ]
  },
  {
   "cell_type": "markdown",
   "id": "dc819399",
   "metadata": {},
   "source": [
    "7. If blank input is entered three times, what does inputStr(limit=3, default='hello') do?"
   ]
  },
  {
   "cell_type": "raw",
   "id": "598e3016",
   "metadata": {},
   "source": [
    "It will ask for the value for 3 times and if blanks is given all the 3 times, it will stop asking for the input value and considers 'hello' as the value."
   ]
  }
 ],
 "metadata": {
  "kernelspec": {
   "display_name": "Python 3 (ipykernel)",
   "language": "python",
   "name": "python3"
  },
  "language_info": {
   "codemirror_mode": {
    "name": "ipython",
    "version": 3
   },
   "file_extension": ".py",
   "mimetype": "text/x-python",
   "name": "python",
   "nbconvert_exporter": "python",
   "pygments_lexer": "ipython3",
   "version": "3.9.7"
  }
 },
 "nbformat": 4,
 "nbformat_minor": 5
}
