{
 "cells": [
  {
   "cell_type": "markdown",
   "id": "b35113ba",
   "metadata": {},
   "source": [
    "# Assignment - 3"
   ]
  },
  {
   "cell_type": "raw",
   "id": "0903e252",
   "metadata": {},
   "source": [
    "1. Why are functions advantageous to have in your programs?"
   ]
  },
  {
   "cell_type": "markdown",
   "id": "e85c6702",
   "metadata": {},
   "source": [
    "Reusability of the code is possible using functions. When we need a common logic to be executed in different modules, we can code it as a function, import and use it. This reduces the code size and readability of the programs"
   ]
  },
  {
   "cell_type": "raw",
   "id": "ccf2923b",
   "metadata": {},
   "source": [
    "2. When does the code in a function run: when it's specified or when it's called?"
   ]
  },
  {
   "cell_type": "markdown",
   "id": "b6431dca",
   "metadata": {},
   "source": [
    "When a function is called, it will run. "
   ]
  },
  {
   "cell_type": "raw",
   "id": "49818eb8",
   "metadata": {},
   "source": [
    "3. What statement creates a function?"
   ]
  },
  {
   "cell_type": "markdown",
   "id": "e138d79b",
   "metadata": {},
   "source": [
    "def functionname():\n",
    "    Any logic in the function\n",
    "\n",
    "def keyword is used to create a function"
   ]
  },
  {
   "cell_type": "raw",
   "id": "221f6f23",
   "metadata": {},
   "source": [
    "4. What is the difference between a function and a function call?"
   ]
  },
  {
   "cell_type": "markdown",
   "id": "3766540c",
   "metadata": {},
   "source": [
    "A function can be created using 'def' keyword. This is a function. The logic inside function gets executed only when the function is called. \n",
    "\n",
    "So When we create a function, it is a function. When it is called, it is a function call. A function is called using the syntax 'functionname()'."
   ]
  },
  {
   "cell_type": "raw",
   "id": "99577372",
   "metadata": {},
   "source": [
    "5. How many global scopes are there in a Python program? How many local scopes?"
   ]
  },
  {
   "cell_type": "markdown",
   "id": "8cf7e424",
   "metadata": {},
   "source": [
    "There is one global scope and one local scope in a python program. When a used inside a python program, it first searches in the local scope and then global scope. Whereever program finds the variable first, it stops there and considers the value."
   ]
  },
  {
   "cell_type": "raw",
   "id": "acb677ef",
   "metadata": {},
   "source": [
    "6. What happens to variables in a local scope when the function call returns?"
   ]
  },
  {
   "cell_type": "markdown",
   "id": "80d36a32",
   "metadata": {},
   "source": [
    "When the function returns, it says execution of the function is completed. So the variables in a local scope gets destroyed. Next time when the function is called the previous values of local scope will not be present."
   ]
  },
  {
   "cell_type": "raw",
   "id": "d5f729dc",
   "metadata": {},
   "source": [
    "7. What is the concept of a return value? Is it possible to have a return value in an expression?"
   ]
  },
  {
   "cell_type": "markdown",
   "id": "c51a4232",
   "metadata": {},
   "source": [
    "The return value is used to return a value or an expression to the place where it is called from. It also says return statement is an end to the function and any statement after return statement will not be executed. Yes, it is possible to have a return value in an expression."
   ]
  },
  {
   "cell_type": "raw",
   "id": "931b9ea3",
   "metadata": {},
   "source": [
    "8. If a function does not have a return statement, what is the return value of a call to that function?"
   ]
  },
  {
   "cell_type": "markdown",
   "id": "696f9b5a",
   "metadata": {},
   "source": [
    "Every Python function will return something irrespective of presence of return statement or not. If there is no return statement coded in a function, it returns None."
   ]
  },
  {
   "cell_type": "raw",
   "id": "c844a98c",
   "metadata": {},
   "source": [
    "9. How do you make a function variable refer to the global variable?"
   ]
  },
  {
   "cell_type": "markdown",
   "id": "b35c163c",
   "metadata": {},
   "source": [
    "We can specify the variable inside function with keyword 'global'. If we specify 'global' beside the variable name in the function it uses the value of the global variable in the function and when we change the value of the variable, it changes the value of global variable which also gets changed in the program as well."
   ]
  },
  {
   "cell_type": "raw",
   "id": "c0761c97",
   "metadata": {},
   "source": [
    "10. What is the data type of None?"
   ]
  },
  {
   "cell_type": "markdown",
   "id": "ee8b5284",
   "metadata": {},
   "source": [
    "The data type of None is NoneType."
   ]
  },
  {
   "cell_type": "raw",
   "id": "b89bb1ef",
   "metadata": {},
   "source": [
    "11. What does the sentence import areallyourpetsnamederic do?"
   ]
  },
  {
   "cell_type": "markdown",
   "id": "974155b7",
   "metadata": {},
   "source": [
    "This statement will import areallyourpetsnamederic module into our program. We can use any of the definitions or methods coded in areallyourpetsnamederic in our program."
   ]
  },
  {
   "cell_type": "raw",
   "id": "313e5d11",
   "metadata": {},
   "source": [
    "12. If you had a bacon() feature in a spam module, what would you call it after importing spam?"
   ]
  },
  {
   "cell_type": "markdown",
   "id": "e49d4758",
   "metadata": {},
   "source": [
    "We can say that bacon() is a function inside spam module. So to use bacon() function in our programme, we need to import spam module and then use the bacon() function or call it spam.bacon()"
   ]
  },
  {
   "cell_type": "raw",
   "id": "befb9929",
   "metadata": {},
   "source": [
    "13. What can you do to save a programme from crashing if it encounters an error?"
   ]
  },
  {
   "cell_type": "markdown",
   "id": "30d89903",
   "metadata": {},
   "source": [
    "We have to code the statements in TRY clause and if any error is encountered, EXCEPT clause will be executed and then the rest of the programme will continue."
   ]
  },
  {
   "cell_type": "raw",
   "id": "1c831a10",
   "metadata": {},
   "source": [
    "14. What is the purpose of the try clause? What is the purpose of the except clause?"
   ]
  },
  {
   "cell_type": "markdown",
   "id": "800e2af4",
   "metadata": {},
   "source": [
    "TRY and EXCEPT clauses are used for exception handling in Python. When we code some statements in TRY clause and if any error is encoutered in those statements, EXCEPT clause will be executed and the programme flow will continue without stopping the programme."
   ]
  }
 ],
 "metadata": {
  "kernelspec": {
   "display_name": "Python 3 (ipykernel)",
   "language": "python",
   "name": "python3"
  },
  "language_info": {
   "codemirror_mode": {
    "name": "ipython",
    "version": 3
   },
   "file_extension": ".py",
   "mimetype": "text/x-python",
   "name": "python",
   "nbconvert_exporter": "python",
   "pygments_lexer": "ipython3",
   "version": "3.9.7"
  }
 },
 "nbformat": 4,
 "nbformat_minor": 5
}
