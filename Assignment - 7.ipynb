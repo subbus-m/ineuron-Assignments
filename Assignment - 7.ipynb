{
 "cells": [
  {
   "cell_type": "markdown",
   "id": "36f69af7",
   "metadata": {},
   "source": [
    "1. What is the name of the feature responsible for generating Regex objects?"
   ]
  },
  {
   "cell_type": "raw",
   "id": "8f6699eb",
   "metadata": {},
   "source": [
    "The re.compile() function is responsible for generating Regex Objects."
   ]
  },
  {
   "cell_type": "markdown",
   "id": "43baf7f3",
   "metadata": {},
   "source": [
    "2. Why do raw strings often appear in Regex objects?"
   ]
  },
  {
   "cell_type": "raw",
   "id": "2f9061c7",
   "metadata": {},
   "source": [
    "Raw Strings are used because backslashes need to be considered. If we give both backslashes and raw strings, the raw strings will be searched based on the operation given using back slashes."
   ]
  },
  {
   "cell_type": "markdown",
   "id": "d2ff19d0",
   "metadata": {},
   "source": [
    "3. What is the return value of the search() method?"
   ]
  },
  {
   "cell_type": "raw",
   "id": "71169988",
   "metadata": {},
   "source": [
    "search() method returns whether the value or string is matched or not. If string is present it returns True otherwise returns False."
   ]
  },
  {
   "cell_type": "markdown",
   "id": "857099e6",
   "metadata": {},
   "source": [
    "4. From a Match item, how do you get the actual strings that match the pattern?"
   ]
  },
  {
   "cell_type": "raw",
   "id": "3081ab14",
   "metadata": {},
   "source": [
    "We can give .group() at last of the result of 're.search' so that it will return the string from the match item."
   ]
  },
  {
   "cell_type": "markdown",
   "id": "1819ece7",
   "metadata": {},
   "source": [
    "5. In the regex which created from the r'(\\d\\d\\d)-(\\d\\d\\d-\\d\\d\\d\\d)', what does group zero cover? Group 2? Group 1?"
   ]
  },
  {
   "cell_type": "raw",
   "id": "ef74b390",
   "metadata": {},
   "source": [
    "Group 0 Cover the result of whole, Group 1 considers first paranthesis i.e., (/d/d/d) and Group 1 considers second paranthesis i.e., (/d/d/d-/d/d/d/d)"
   ]
  },
  {
   "cell_type": "markdown",
   "id": "5a34314b",
   "metadata": {},
   "source": [
    "6. In standard expression syntax, parentheses and intervals have distinct meanings. How can you tell a regex that you want it to fit real parentheses and periods?"
   ]
  },
  {
   "cell_type": "raw",
   "id": "70f71ee8",
   "metadata": {},
   "source": [
    "We can differ paranthesis and period by using backslash ('\\'). If we give this in middle of both, they both will be considered seperately."
   ]
  },
  {
   "cell_type": "markdown",
   "id": "4315a75d",
   "metadata": {},
   "source": [
    "7. The findall() method returns a string list or a list of string tuples. What causes it to return one of the two options?"
   ]
  },
  {
   "cell_type": "raw",
   "id": "0507ea5f",
   "metadata": {},
   "source": [
    "If regex expression has groups, it will return list of tuples of strings. If regex expression does not have any groups, it will just return list of strings."
   ]
  },
  {
   "cell_type": "markdown",
   "id": "d37af875",
   "metadata": {},
   "source": [
    "8. In standard expressions, what does the | character mean?"
   ]
  },
  {
   "cell_type": "raw",
   "id": "271785f5",
   "metadata": {},
   "source": [
    "'|' means or condition between 2 groups of a regex expression."
   ]
  },
  {
   "cell_type": "markdown",
   "id": "8584ccd4",
   "metadata": {},
   "source": [
    "9. In regular expressions, what does the character stand for?"
   ]
  },
  {
   "cell_type": "raw",
   "id": "7045e675",
   "metadata": {},
   "source": [
    "There is no character in the question. So skipping this question."
   ]
  },
  {
   "cell_type": "markdown",
   "id": "e335f651",
   "metadata": {},
   "source": [
    "10.In regular expressions, what is the difference between the + and * characters?"
   ]
  },
  {
   "cell_type": "raw",
   "id": "96b1b32f",
   "metadata": {},
   "source": [
    "The '+' matches one or more and '*' matches zero or more."
   ]
  },
  {
   "cell_type": "markdown",
   "id": "bc4b04df",
   "metadata": {},
   "source": [
    "11. What is the difference between {4} and {4,5} in regular expression?"
   ]
  },
  {
   "cell_type": "raw",
   "id": "c58c1e8e",
   "metadata": {},
   "source": [
    "{4} will search for only 4 whereas {4,5} will search for both 4 and 5 occurances which is a range. "
   ]
  },
  {
   "cell_type": "markdown",
   "id": "e735e14e",
   "metadata": {},
   "source": [
    "12. What do you mean by the \\d, \\w, and \\s shorthand character classes signify in regular expressions?"
   ]
  },
  {
   "cell_type": "raw",
   "id": "9291ded6",
   "metadata": {},
   "source": [
    "'\\d' will return a match when the string contains any number.\n",
    "'\\w' will return a match when the string contains any alphabet in lower case or upper case, any number and Underscore (_).\n",
    "'\\s' will return a match when the string contains white space character."
   ]
  },
  {
   "cell_type": "markdown",
   "id": "011c96cc",
   "metadata": {},
   "source": [
    "13. What do means by \\D, \\W, and \\S shorthand character classes signify in regular expressions?"
   ]
  },
  {
   "cell_type": "raw",
   "id": "9c018fab",
   "metadata": {},
   "source": [
    "'\\D' will return a match when the string does not contain a number or digit.\n",
    "'\\W' will return a match when the string does not contain any word character i.e., alphabet in lower case or upper case, any number and Underscore(_).\n",
    "'\\S' will return a match when the string does not contain white space character."
   ]
  },
  {
   "cell_type": "markdown",
   "id": "eb1cf544",
   "metadata": {},
   "source": [
    "14. What is the difference between .*? and .*?"
   ]
  },
  {
   "cell_type": "raw",
   "id": "7fc3f5f2",
   "metadata": {},
   "source": [
    "Both the character give are '.?'. So I feel both are same."
   ]
  },
  {
   "cell_type": "markdown",
   "id": "c0185566",
   "metadata": {},
   "source": [
    "15. What is the syntax for matching both numbers and lowercase letters with a character class?"
   ]
  },
  {
   "cell_type": "raw",
   "id": "92d737ea",
   "metadata": {},
   "source": [
    "We can give as '[a-z0-9]' so that both lowercase letters and numbers will be searched."
   ]
  },
  {
   "cell_type": "markdown",
   "id": "168dbbcf",
   "metadata": {},
   "source": [
    "16. What is the procedure for making a normal expression in regax case insensitive?"
   ]
  },
  {
   "cell_type": "raw",
   "id": "9c714fc0",
   "metadata": {},
   "source": [
    "re.IGNORECASE can be used to make regex case insensitive."
   ]
  },
  {
   "cell_type": "markdown",
   "id": "43af8d1c",
   "metadata": {},
   "source": [
    "17. What does the . character normally match? What does it match if re.DOTALL is passed as 2nd argument in re.compile()?"
   ]
  },
  {
   "cell_type": "raw",
   "id": "f8bb0f91",
   "metadata": {},
   "source": [
    "'.' character matches any character except new line character.\n",
    "If we specify re.DOTALL, it will be even match new line character as well."
   ]
  },
  {
   "cell_type": "markdown",
   "id": "0e5d020c",
   "metadata": {},
   "source": [
    "18. If numReg = re.compile(r'\\d+'), what will numRegex.sub('X', '11 drummers, 10 pipers, five rings, 4 hen') return?"
   ]
  },
  {
   "cell_type": "raw",
   "id": "ee7859ad",
   "metadata": {},
   "source": [
    "X drummers, X pipers, five rings, X hen"
   ]
  },
  {
   "cell_type": "markdown",
   "id": "46ae22e4",
   "metadata": {},
   "source": [
    "19. What does passing re.VERBOSE as the 2nd argument to re.compile() allow to do?"
   ]
  },
  {
   "cell_type": "raw",
   "id": "c712e7f7",
   "metadata": {},
   "source": [
    "Using re.VERBOSE, any whitespace in regular expression will be ignored and also we can add comments using this VERBOSE which increases readability and understandability. See the below syntax.\n",
    "\n",
    "charref = re.compile(r\"\"\"\n",
    " &[#]                # Start of a numeric entity reference\n",
    " (\n",
    "     0[0-7]+         # Octal form\n",
    "   | [0-9]+          # Decimal form\n",
    "   | x[0-9a-fA-F]+   # Hexadecimal form\n",
    " )\n",
    " ;                   # Trailing semicolon\n",
    "\"\"\", re.VERBOSE)\n",
    "\n",
    "Here we have given comments explaing what each line does. This is because we used re.VERBOSE at last. So this reads understandability."
   ]
  },
  {
   "cell_type": "markdown",
   "id": "14176eb2",
   "metadata": {},
   "source": [
    "20. How would you write a regex that match a number with comma for every three digits? It must match the given following:\n",
    "\n",
    "'42'\n",
    "\n",
    "'1,234'\n",
    "\n",
    "'6,368,745'\n",
    "\n",
    "but not the following:\n",
    "\n",
    "'12,34,567' (which has only two digits between the commas)\n",
    "\n",
    "'1234' (which lacks commas)"
   ]
  },
  {
   "cell_type": "raw",
   "id": "271968bd",
   "metadata": {},
   "source": [
    "test = re.compile('^\\d+(,\\d{3})*$')\n",
    "test.search('6,368,745').group()\n",
    "\n",
    "We can replace all the numbers one by one with 6,368,745 so that we can get result for each number."
   ]
  },
  {
   "cell_type": "markdown",
   "id": "c28f35e2",
   "metadata": {},
   "source": [
    "21. How would you write a regex that matches the full name of someone whose last name is Watanabe? You can assume that the first name that comes before it will always be one word that begins with a capital letter. The regex must match the following:\n",
    "\n",
    "'Haruto Watanabe'\n",
    "\n",
    "'Alice Watanabe'\n",
    "\n",
    "'RoboCop Watanabe'\n",
    "\n",
    "but not the following:\n",
    "\n",
    "'haruto Watanabe' (where the first name is not capitalized)\n",
    "\n",
    "'Mr. Watanabe' (where the preceding word has a nonletter character)\n",
    "\n",
    "'Watanabe' (which has no first name)\n",
    "\n",
    "'Haruto watanabe' (where Watanabe is not capitalized)"
   ]
  },
  {
   "cell_type": "raw",
   "id": "e6b8e946",
   "metadata": {},
   "source": [
    "r = re.compile(r'\\b[A-Z][A-Za-z]+\\sWatanabe\\b')\n",
    "r.search('Haruto watanabe').group()"
   ]
  },
  {
   "cell_type": "markdown",
   "id": "44a459f8",
   "metadata": {},
   "source": [
    "22. How would you write a regex that matches a sentence where the first word is either Alice, Bob, or Carol; the second word is either eats, pets, or throws; the third word is apples, cats, or baseballs; and the sentence ends with a period? This regex should be case-insensitive. It must match the following:\n",
    "\n",
    "'Alice eats apples.'\n",
    "\n",
    "'Bob pets cats.'\n",
    "\n",
    "'Carol throws baseballs.'\n",
    "\n",
    "'Alice throws Apples.'\n",
    "\n",
    "'BOB EATS CATS.'\n",
    "\n",
    "but not the following:\n",
    "\n",
    "'RoboCop eats apples.'\n",
    "\n",
    "'ALICE THROWS FOOTBALLS.'\n",
    "\n",
    "'Carol eats 7 cats.'"
   ]
  },
  {
   "cell_type": "raw",
   "id": "15284e6a",
   "metadata": {},
   "source": [
    "s = re.compile(r'(Alice|Bob|Carol)\\s+(eats|pets|throws)\\s+(apples|cats|baseballs)\\.',re.IGNORECASE)\n",
    "st = s.search('Alice eats apples.').group()\n",
    "\n",
    "We can replace each string given. "
   ]
  }
 ],
 "metadata": {
  "kernelspec": {
   "display_name": "Python 3 (ipykernel)",
   "language": "python",
   "name": "python3"
  },
  "language_info": {
   "codemirror_mode": {
    "name": "ipython",
    "version": 3
   },
   "file_extension": ".py",
   "mimetype": "text/x-python",
   "name": "python",
   "nbconvert_exporter": "python",
   "pygments_lexer": "ipython3",
   "version": "3.9.7"
  }
 },
 "nbformat": 4,
 "nbformat_minor": 5
}
