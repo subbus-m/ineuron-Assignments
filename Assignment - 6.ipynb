{
 "cells": [
  {
   "cell_type": "markdown",
   "id": "fc95c24e",
   "metadata": {},
   "source": [
    "# Assignment - 6"
   ]
  },
  {
   "cell_type": "markdown",
   "id": "144cdbe4",
   "metadata": {},
   "source": [
    "1. What are escape characters, and how do you use them?"
   ]
  },
  {
   "cell_type": "raw",
   "id": "2314614c",
   "metadata": {},
   "source": [
    "Escape Characters are notated by prefixing backslash '\\'. If we need to add a new line or a tab or any other characters, we use escape characters. Below is how to use them.\n",
    "\n",
    "\\n --> new line\n",
    "\\t --> tab\n",
    "\\r --> carriage return\n",
    "\\b --> backspace\n",
    "\n",
    "We can also add a string as below when needed.\n",
    "\n",
    "print('Hi. This is to add a string in quotes using \\'Escape Characters\\' inside print statement')"
   ]
  },
  {
   "cell_type": "markdown",
   "id": "7333630c",
   "metadata": {},
   "source": [
    "2. What do the escape characters n and t stand for?"
   ]
  },
  {
   "cell_type": "raw",
   "id": "20ff469a",
   "metadata": {},
   "source": [
    "\\n and \\t are to insert new line and a tab respectively."
   ]
  },
  {
   "cell_type": "markdown",
   "id": "2db37a77",
   "metadata": {},
   "source": [
    "3. What is the way to include backslash characters in a string?"
   ]
  },
  {
   "cell_type": "raw",
   "id": "80655e4a",
   "metadata": {},
   "source": [
    "We should use double backslash to insert a single backslash as below.\n",
    "\n",
    "print('This is how we print a \\\\ backslash')"
   ]
  },
  {
   "cell_type": "markdown",
   "id": "5eb6aba0",
   "metadata": {},
   "source": [
    "4. The string \"Howl's Moving Castle\" is a correct value. Why isn't the single quote character in the word Howl's not escaped a problem?"
   ]
  },
  {
   "cell_type": "raw",
   "id": "3cc66b57",
   "metadata": {},
   "source": [
    "Since the string with single quote (') is enclosed in double quotes (\"\"), it will not give any issue. Even the vice versa should not give any issue. \n",
    "When we have a scenario where we are enclosing the string single quotes and we have to use a single quote again in the same string we will face issue."
   ]
  },
  {
   "cell_type": "markdown",
   "id": "d65b7ea5",
   "metadata": {},
   "source": [
    "5. How do you write a string of newlines if you don't want to use the n character?"
   ]
  },
  {
   "cell_type": "raw",
   "id": "f00cc60c",
   "metadata": {},
   "source": [
    "I am not sure if we have any other way to print new lines without using \\n character. What I can do is print in different statements without giving any value which will print in new line.\n",
    "\n",
    "After a research I found there is a way can be done using os module as below.\n",
    "'Hi! I am gonna write next ' + os.linesep + 'in a new line'"
   ]
  },
  {
   "cell_type": "markdown",
   "id": "adfe04da",
   "metadata": {},
   "source": [
    "6. What are the values of the given expressions?\n",
    "\n",
    "'Hello, world!'[1]\n",
    "\n",
    "'Hello, world!'[0:5]\n",
    "\n",
    "'Hello, world!'[:5]\n",
    "\n",
    "'Hello, world!'[3:]"
   ]
  },
  {
   "cell_type": "raw",
   "id": "5e4a0289",
   "metadata": {},
   "source": [
    "'Hello, world!'[1] --> 'e'\n",
    "'Hello, world!'[0:5] --> 'Hello'\n",
    "'Hello, world!'[:5] --> 'Hello'\n",
    "'Hello, world!'[3:] --> 'lo, world!'"
   ]
  },
  {
   "cell_type": "markdown",
   "id": "c6eb1099",
   "metadata": {},
   "source": [
    "7. What are the values of the following expressions?\n",
    "\n",
    "'Hello'.upper()\n",
    "\n",
    "'Hello'.upper().isupper()\n",
    "\n",
    "'Hello'.upper().lower()"
   ]
  },
  {
   "cell_type": "raw",
   "id": "acb1ed34",
   "metadata": {},
   "source": [
    "'Hello'.upper() --> 'HELLO'\n",
    "'Hello'.upper().isupper() - True\n",
    "'Hello'.upper().lower() --> 'hello'"
   ]
  },
  {
   "cell_type": "markdown",
   "id": "1c91280f",
   "metadata": {},
   "source": [
    "8. What are the values of the following expressions?\n",
    "\n",
    "'Remember, remember, the fifth of July.'.split()\n",
    "\n",
    "'-'.join('There can only one.'.split())"
   ]
  },
  {
   "cell_type": "raw",
   "id": "80b8354c",
   "metadata": {},
   "source": [
    "'Remember, remember, the fifth of July.'.split() --> ['Remember,', 'remember,', 'the', 'fifth', 'of', 'July.']\n",
    "'-'.join('There can only one.'.split()) --> 'There-can-only-one'"
   ]
  },
  {
   "cell_type": "markdown",
   "id": "a00ef066",
   "metadata": {},
   "source": [
    "9. What are the methods for right-justifying, left-justifying, and centering a string?"
   ]
  },
  {
   "cell_type": "raw",
   "id": "9e67896d",
   "metadata": {},
   "source": [
    " rjust(), ljust() and center() are the methods used to right justify, left justify and center the string"
   ]
  },
  {
   "cell_type": "markdown",
   "id": "6fc60ca0",
   "metadata": {},
   "source": [
    "10. What is the best way to remove whitespace characters from the start or end?"
   ]
  },
  {
   "cell_type": "raw",
   "id": "be4ce020",
   "metadata": {},
   "source": [
    "trimstart() and trimend() are methods to remove whitespace characters from the start and end of the strings respectively."
   ]
  }
 ],
 "metadata": {
  "kernelspec": {
   "display_name": "Python 3 (ipykernel)",
   "language": "python",
   "name": "python3"
  },
  "language_info": {
   "codemirror_mode": {
    "name": "ipython",
    "version": 3
   },
   "file_extension": ".py",
   "mimetype": "text/x-python",
   "name": "python",
   "nbconvert_exporter": "python",
   "pygments_lexer": "ipython3",
   "version": "3.9.7"
  }
 },
 "nbformat": 4,
 "nbformat_minor": 5
}
