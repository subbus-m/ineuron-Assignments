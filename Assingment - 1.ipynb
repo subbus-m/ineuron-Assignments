{
 "cells": [
  {
   "cell_type": "markdown",
   "id": "78a3de15",
   "metadata": {},
   "source": [
    "# Assignment - 1"
   ]
  },
  {
   "cell_type": "raw",
   "id": "39337e70",
   "metadata": {},
   "source": [
    "1. In the below elements which of them are values or an expression? eg:- values can be integer or string and expressions will be mathematical operators.\n",
    "* \n",
    "'hello'\n",
    "-87.8\n",
    "- \n",
    "/ \n",
    "+\t\n",
    "6 \n",
    " "
   ]
  },
  {
   "cell_type": "markdown",
   "id": "8df2d589",
   "metadata": {},
   "source": [
    "Since *,-,/,+ come under mathematical operators, these are expressions.\n",
    "Since 6 is an integer and 'hello' is a string, these are values.\n",
    "To summarize *, 'hello', -, /, + and 6 comes under values or expression"
   ]
  },
  {
   "cell_type": "raw",
   "id": "05255705",
   "metadata": {},
   "source": [
    "2. What is the difference between string and variable?"
   ]
  },
  {
   "cell_type": "markdown",
   "id": "22032527",
   "metadata": {},
   "source": [
    "String is a data type. Any value written inside '' (Single Quotes) or \" \" (Double Quotes) are considered as String.\n",
    "Variable is a value holder which is used to hold any value. The value can be of any type like numeric or character or any other type of data. \n",
    "\n",
    "Lets say if we consider below example, Name is considered as variable and the value inside Name which is 'Subramanyam' is considered as String. The data type of variable Name is String.\n",
    "\n",
    "Name = 'Subramanyam'"
   ]
  },
  {
   "cell_type": "raw",
   "id": "ea131b44",
   "metadata": {},
   "source": [
    "3. Describe three different data types."
   ]
  },
  {
   "cell_type": "markdown",
   "id": "e2fad78e",
   "metadata": {},
   "source": [
    "Below are the three different data types.\n",
    "1. Numbers - Any mathemetical number comes under this. Eg - 123, 34.23\n",
    "2. String - Any value enclosed in Quotes are considerd as String data type. Eg - 'Ineuron', 'Data Science', '451.52'\n",
    "3. Dictionary - This data type will have Key, Value pair sealed in curly braces. Eg - dc = {'Institute':'Ineuron', 'Course':'Data Science', 'Roll No':12}\n",
    "In the above example, 'Institute', 'Course' and 'Roll No' will be considered as Keys and 'Ineuron', 'Data Science' and 12 will be considered as values. When accessed the dictionary with variable name, we get the keys returned. If we need to access values, we would need to use function values() with the variable name. In the above example, dc will return the keys and dc.values() will return the values."
   ]
  },
  {
   "cell_type": "raw",
   "id": "f7c08ac3",
   "metadata": {},
   "source": [
    "4. What is an expression made up of? What do all expressions do?"
   ]
  },
  {
   "cell_type": "markdown",
   "id": "b4409a10",
   "metadata": {},
   "source": [
    "Expressions are made with combination of mathemetical operators and values. \n",
    "Eg - a = b + c --> b + c is an expression which give a result of sum of b and c.\n",
    "Expressions give a result by doing the computation provided. In the above example the computation is b + c and it computes the sum of b,c and the result will be saved in a. So the whole statement is called an expression and this expression computes and provide a result."
   ]
  },
  {
   "cell_type": "raw",
   "id": "55f733fa",
   "metadata": {},
   "source": [
    "5. This assignment statements, like spam = 10. What is the difference between an expression and a statement?"
   ]
  },
  {
   "cell_type": "markdown",
   "id": "33a4b21f",
   "metadata": {},
   "source": [
    "An expression computes something and gives a result where as each line of code executed is called a statement.\n",
    "\n",
    "To give the difference, a = b + c => here b+c is an expression since it computes the sum and gives the result where as print(a) can be considered as a statement since it can be executed and prints the value of a. Not only print(a), any executable line of code is called statement like If statement, else statement and so on. Even the lines inside If or Else statements are considered as statements."
   ]
  },
  {
   "cell_type": "raw",
   "id": "9873ab69",
   "metadata": {},
   "source": [
    "6. After running the following code, what does the variable bacon contain?\n",
    "bacon = 22\n",
    "bacon + 1\n"
   ]
  },
  {
   "cell_type": "markdown",
   "id": "d2c2d8a2",
   "metadata": {},
   "source": [
    "22"
   ]
  },
  {
   "cell_type": "raw",
   "id": "5e918828",
   "metadata": {},
   "source": [
    "7. What should the values of the following two terms be?\n",
    "'spam' + 'spamspam'\n",
    "'spam' * 3\n"
   ]
  },
  {
   "cell_type": "markdown",
   "id": "c6a03e4b",
   "metadata": {},
   "source": [
    "'spam' + 'spamspam' = 'spamspamspam'\n",
    "\n",
    "'spam' * 3 = 'spamspamspam'"
   ]
  },
  {
   "cell_type": "raw",
   "id": "80cf974d",
   "metadata": {},
   "source": [
    "8. Why is eggs a valid variable name while 100 is invalid?"
   ]
  },
  {
   "cell_type": "markdown",
   "id": "8a8e2689",
   "metadata": {},
   "source": [
    "A variable name can start with a character or an Underscore (_) symbol. A variable name cannot start with number. So eggs is a valid variable and since 100 is a number, it is not a valid variable name."
   ]
  },
  {
   "cell_type": "raw",
   "id": "51608248",
   "metadata": {},
   "source": [
    "9. What three functions can be used to get the integer, floating-point number, or string version of a value?"
   ]
  },
  {
   "cell_type": "markdown",
   "id": "5316d098",
   "metadata": {},
   "source": [
    "int() function can be used to get integer. float() function can be used to get float value and str() function is used to convert a value to a string."
   ]
  },
  {
   "cell_type": "raw",
   "id": "d7122064",
   "metadata": {},
   "source": [
    "10. Why does this expression cause an error? How can you fix it?\n",
    "'I have eaten ' + 99 + ' burritos.'"
   ]
  },
  {
   "cell_type": "markdown",
   "id": "683efc7f",
   "metadata": {},
   "source": [
    "We can concatenate only string with another string. Since 99 is an integer here, we cannot concatenate String with an integer. If we convert 99 to a string using str() function or if we enclose 99 in quotes in the below ways, we can fix the error and get the statement executed.\n",
    "\n",
    "'I have eaten ' + str(99) + ' burritos.'\n",
    "\n",
    "'I have eaten ' + '99' + 'burritos.'"
   ]
  },
  {
   "cell_type": "code",
   "execution_count": null,
   "id": "714e7f3f",
   "metadata": {},
   "outputs": [],
   "source": []
  }
 ],
 "metadata": {
  "kernelspec": {
   "display_name": "Python 3 (ipykernel)",
   "language": "python",
   "name": "python3"
  },
  "language_info": {
   "codemirror_mode": {
    "name": "ipython",
    "version": 3
   },
   "file_extension": ".py",
   "mimetype": "text/x-python",
   "name": "python",
   "nbconvert_exporter": "python",
   "pygments_lexer": "ipython3",
   "version": "3.9.7"
  }
 },
 "nbformat": 4,
 "nbformat_minor": 5
}
