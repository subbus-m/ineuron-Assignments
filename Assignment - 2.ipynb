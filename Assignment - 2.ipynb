{
 "cells": [
  {
   "cell_type": "raw",
   "id": "0a8388be",
   "metadata": {},
   "source": [
    "1.What are the two values of the Boolean data type? How do you write them?"
   ]
  },
  {
   "cell_type": "markdown",
   "id": "920be7a0",
   "metadata": {},
   "source": [
    "True and False are the 2 boolean data type. True says 1 and False says 0.\n",
    "\n",
    "We write them as True and False."
   ]
  },
  {
   "cell_type": "raw",
   "id": "360714a2",
   "metadata": {},
   "source": [
    "2. What are the three different types of Boolean operators?"
   ]
  },
  {
   "cell_type": "markdown",
   "id": "1a4d7c12",
   "metadata": {},
   "source": [
    "The three different types of Boolean operators are 'and', 'or', 'and not'"
   ]
  },
  {
   "cell_type": "raw",
   "id": "45082a5a",
   "metadata": {},
   "source": [
    "3. Make a list of each Boolean operator's truth tables (i.e. every possible combination of Boolean values for the operator and what it evaluate )"
   ]
  },
  {
   "cell_type": "markdown",
   "id": "83cbfa22",
   "metadata": {},
   "source": [
    "And\n",
    "--\n",
    "1)True + True = True \n",
    "2)True + False = False \n",
    "3)False + True = False \n",
    "4)False + False = False \n",
    "\n",
    "Or\n",
    "--\n",
    "1)True + True = True \n",
    "2)True + False = True \n",
    "3)False + True = True \n",
    "4)False + False = False \n",
    "\n",
    "And Not\n",
    "--\n",
    "1)True = False \n",
    "2)False = True "
   ]
  },
  {
   "cell_type": "raw",
   "id": "e8bca46f",
   "metadata": {},
   "source": [
    "4. What are the values of the following expressions?\n",
    "(5 > 4) and (3 == 5)\n",
    "not (5 > 4)\n",
    "(5 > 4) or (3 == 5)\n",
    "not ((5 > 4) or (3 == 5))\n",
    "(True and True) and (True == False)\n",
    "(not False) or (not True)"
   ]
  },
  {
   "cell_type": "markdown",
   "id": "ce9dc146",
   "metadata": {},
   "source": [
    "(5 > 4) and (3 == 5) => False\n",
    "\n",
    "not (5 > 4) => False\n",
    "\n",
    "(5 > 4) or (3 == 5) =>True\n",
    "\n",
    "not ((5 > 4) or (3 == 5)) => False\n",
    "\n",
    "(True and True) and (True == False) => False\n",
    "\n",
    "(not False) or (not True) => True"
   ]
  },
  {
   "cell_type": "raw",
   "id": "062a11a4",
   "metadata": {},
   "source": [
    "5. What are the six comparison operators?"
   ]
  },
  {
   "cell_type": "markdown",
   "id": "34e80519",
   "metadata": {},
   "source": [
    "Less than => <\n",
    "\n",
    "Greater than => >\n",
    "\n",
    "Equal to => ==\n",
    "\n",
    "Less than or equal => <=\n",
    "\n",
    "Greater than or equal => >=\n",
    "\n",
    "Not equal => !="
   ]
  },
  {
   "cell_type": "raw",
   "id": "161492cc",
   "metadata": {},
   "source": [
    "6. How do you tell the difference between the equal to and assignment operators?Describe a condition and when you would use one."
   ]
  },
  {
   "cell_type": "markdown",
   "id": "16252ab9",
   "metadata": {},
   "source": [
    "The Equal to will just assign the value to variable on left side with the value of right side variable. The other assignment operators will compute some operation to the value of right side varaible and then assign the value to variable on left side.\n",
    "\n",
    "Let's say we have a scenario to add a value and then assign it to a variable. a += b does an addition of a and b and then assign result value to a where as a = b does the value assignment of b to a\n",
    "\n",
    "If we consider == as equal to, it checks if both values of variables on right side and left side are same. If both are same, it returns True else False.\n",
    "\n",
    "The assignment operators will not return any value instead they will just assign values from right side variable to left side variable based on the assignment operator."
   ]
  },
  {
   "cell_type": "raw",
   "id": "42615f3a",
   "metadata": {},
   "source": [
    "7. Identify the three blocks in this code:\n",
    "spam = 0\n",
    "if spam == 10:\n",
    "print('eggs')\n",
    "if spam > 5:\n",
    "print('bacon')\n",
    "else:\n",
    "print('ham')\n",
    "print('spam')\n",
    "print('spam')"
   ]
  },
  {
   "cell_type": "markdown",
   "id": "eec84ab9",
   "metadata": {},
   "source": [
    "Block1:\n",
    "if spam > 5:\n",
    "    print('bacon')\n",
    "\n",
    "Block2:\n",
    "else:\n",
    "    print('ham')\n",
    "    print('spam')\n",
    "    print('spam')\n",
    " \n",
    "Block3:\n",
    "if spam == 10:\n",
    "    print('eggs')"
   ]
  },
  {
   "cell_type": "raw",
   "id": "d452300b",
   "metadata": {},
   "source": [
    "8. Write code that prints Hello if 1 is stored in spam, prints Howdy if 2 is stored in spam, and prints Greetings! if anything else is stored in spam."
   ]
  },
  {
   "cell_type": "code",
   "execution_count": 3,
   "id": "d031e21e",
   "metadata": {},
   "outputs": [
    {
     "name": "stdout",
     "output_type": "stream",
     "text": [
      "Greetings!\n"
     ]
    }
   ],
   "source": [
    "spam = 5\n",
    "if spam == 1:\n",
    "    print('spam')\n",
    "elif spam == 2:\n",
    "    print('Howdy')\n",
    "else:\n",
    "    print('Greetings!')"
   ]
  },
  {
   "cell_type": "raw",
   "id": "733ccf95",
   "metadata": {},
   "source": [
    "9.If your programme is stuck in an endless loop, what keys you’ll press?"
   ]
  },
  {
   "cell_type": "markdown",
   "id": "b83ea36d",
   "metadata": {},
   "source": [
    "We press Ctrl+C to come out of the execution."
   ]
  },
  {
   "cell_type": "raw",
   "id": "acbceef8",
   "metadata": {},
   "source": [
    "10. How can you tell the difference between break and continue?"
   ]
  },
  {
   "cell_type": "markdown",
   "id": "826e15cc",
   "metadata": {},
   "source": [
    "Break will stop the execution and come out of the loop irrespective of the loop condition and execute next statement outside loop.\n",
    "\n",
    "Continue will just to skip the rest of the code in the loop for the current iteration only and starts with the next iteration from the first statement of the loop."
   ]
  },
  {
   "cell_type": "raw",
   "id": "e87dda73",
   "metadata": {},
   "source": [
    "11. In a for loop, what is the difference between range(10), range(0, 10), and range(0, 10, 1)?"
   ]
  },
  {
   "cell_type": "markdown",
   "id": "20626b13",
   "metadata": {},
   "source": [
    "All the above are one and same. range(10) will be considered as range(0,10) and range(0,10,1) is also same since the step size is one and executes 10 iterations from 0 to 9."
   ]
  },
  {
   "cell_type": "raw",
   "id": "958ba2c5",
   "metadata": {},
   "source": [
    "12. Write a short program that prints the numbers 1 to 10 using a for loop. Then write an equivalent program that prints the numbers 1 to 10 using a while loop."
   ]
  },
  {
   "cell_type": "markdown",
   "id": "2bdce9e6",
   "metadata": {},
   "source": [
    "For Loop\n",
    "--\n",
    "for i in range(1,11,1):\n",
    "\n",
    "    print(i)\n",
    "\n",
    "While Loop\n",
    "--\n",
    "i = 1\n",
    "\n",
    "while i <= 10\n",
    "\n",
    "    print(i)\n",
    "    \n",
    "    i += 1"
   ]
  },
  {
   "cell_type": "raw",
   "id": "97691fc2",
   "metadata": {},
   "source": [
    "13. If you had a function named bacon() inside a module named spam, how would you call it after importing spam?"
   ]
  },
  {
   "cell_type": "markdown",
   "id": "1deca0a7",
   "metadata": {},
   "source": [
    "import spam\n",
    "\n",
    "bacon()"
   ]
  }
 ],
 "metadata": {
  "kernelspec": {
   "display_name": "Python 3 (ipykernel)",
   "language": "python",
   "name": "python3"
  },
  "language_info": {
   "codemirror_mode": {
    "name": "ipython",
    "version": 3
   },
   "file_extension": ".py",
   "mimetype": "text/x-python",
   "name": "python",
   "nbconvert_exporter": "python",
   "pygments_lexer": "ipython3",
   "version": "3.9.7"
  }
 },
 "nbformat": 4,
 "nbformat_minor": 5
}
