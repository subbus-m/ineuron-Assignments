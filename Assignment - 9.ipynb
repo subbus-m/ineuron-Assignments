{
 "cells": [
  {
   "cell_type": "markdown",
   "id": "fe77c46f",
   "metadata": {},
   "source": [
    "# Assignment - 9"
   ]
  },
  {
   "cell_type": "markdown",
   "id": "cdc5248c",
   "metadata": {},
   "source": [
    "1. To what does a relative path refer?"
   ]
  },
  {
   "cell_type": "raw",
   "id": "c1f58f2d",
   "metadata": {},
   "source": [
    "Relative path also refers to the same file which is in the absolute or actual path. But we notate the file using relative path which is a kind of shortcut to the actual path. Instead of mentioning full path, we can mention relative path in the program which will be a kind of shortcut or small path."
   ]
  },
  {
   "cell_type": "markdown",
   "id": "b6f1c3f9",
   "metadata": {},
   "source": [
    "2. What does an absolute path start with your operating system?"
   ]
  },
  {
   "cell_type": "raw",
   "id": "f1328328",
   "metadata": {},
   "source": [
    "The absolute path starts with the root folder of an operating system followed by sub-folders."
   ]
  },
  {
   "cell_type": "markdown",
   "id": "3973e6db",
   "metadata": {},
   "source": [
    "3. What do the functions os.getcwd() and os.chdir() do?"
   ]
  },
  {
   "cell_type": "raw",
   "id": "336a19ab",
   "metadata": {},
   "source": [
    "os.getcwd() will return the current working directory i.e., the current directory where program is pointing to.\n",
    "\n",
    "os.chdir() method will change the current working directory to the path passed in."
   ]
  },
  {
   "cell_type": "markdown",
   "id": "7f7c9d64",
   "metadata": {},
   "source": [
    "4. What are the '.' and '..' folders?"
   ]
  },
  {
   "cell_type": "raw",
   "id": "d89008d5",
   "metadata": {},
   "source": [
    "'.' is the current directory\n",
    "'..' is the parent directory"
   ]
  },
  {
   "cell_type": "markdown",
   "id": "bc0215ce",
   "metadata": {},
   "source": [
    "5. In C:\\bacon\\eggs\\spam.txt, which part is the dir name, and which part is the base name?"
   ]
  },
  {
   "cell_type": "raw",
   "id": "409910be",
   "metadata": {},
   "source": [
    "The directory name is C:\\bacon\\eggs and base name is spam.txt"
   ]
  },
  {
   "cell_type": "markdown",
   "id": "f0250287",
   "metadata": {},
   "source": [
    "6. What are the three “mode” arguments that can be passed to the open() function?"
   ]
  },
  {
   "cell_type": "raw",
   "id": "2fce3c0b",
   "metadata": {},
   "source": [
    "r - read mode --> Opens the file for reading. Gives error if file is not present\n",
    "a - append mode --> Opens the file for appending (keeps the existing data alive and adds the data). Creates file if not present\n",
    "w - write mode --> Opens the file for writing. Creates file if not present."
   ]
  },
  {
   "cell_type": "markdown",
   "id": "f5a4bf70",
   "metadata": {},
   "source": [
    "7. What happens if an existing file is opened in write mode?"
   ]
  },
  {
   "cell_type": "raw",
   "id": "08d24d97",
   "metadata": {},
   "source": [
    "The existing data in the file will get erased and new records written into file gets added freshly."
   ]
  },
  {
   "cell_type": "markdown",
   "id": "38cc98dc",
   "metadata": {},
   "source": [
    "8. How do you tell the difference between read() and readlines()?"
   ]
  },
  {
   "cell_type": "raw",
   "id": "15c2e3c5",
   "metadata": {},
   "source": [
    "read() will read the next occurance single line from the file.\n",
    "readlines() will read multiple lines from the file."
   ]
  },
  {
   "cell_type": "markdown",
   "id": "a0ced5b5",
   "metadata": {},
   "source": [
    "9. What data structure does a shelf value resemble?"
   ]
  },
  {
   "cell_type": "raw",
   "id": "358a3c99",
   "metadata": {},
   "source": [
    "A shelf value resembles Dictionary value. It will have keys and values."
   ]
  }
 ],
 "metadata": {
  "kernelspec": {
   "display_name": "Python 3 (ipykernel)",
   "language": "python",
   "name": "python3"
  },
  "language_info": {
   "codemirror_mode": {
    "name": "ipython",
    "version": 3
   },
   "file_extension": ".py",
   "mimetype": "text/x-python",
   "name": "python",
   "nbconvert_exporter": "python",
   "pygments_lexer": "ipython3",
   "version": "3.9.7"
  }
 },
 "nbformat": 4,
 "nbformat_minor": 5
}
