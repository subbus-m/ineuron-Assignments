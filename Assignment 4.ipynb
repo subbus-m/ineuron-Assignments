{
 "cells": [
  {
   "cell_type": "markdown",
   "id": "9f7b35dd",
   "metadata": {},
   "source": [
    "# Assignment - 4"
   ]
  },
  {
   "cell_type": "raw",
   "id": "6ae39229",
   "metadata": {},
   "source": [
    "1. What exactly is []?"
   ]
  },
  {
   "cell_type": "markdown",
   "id": "5a41f0c3",
   "metadata": {},
   "source": [
    "[] is generally used to notate empty list.\n",
    "\n",
    "When we give as ls1 = [], ls1 will be created without data ie., empty list which can be used inside program"
   ]
  },
  {
   "cell_type": "raw",
   "id": "725b676e",
   "metadata": {},
   "source": [
    "2. In a list of values stored in a variable called spam, how would you assign the value 'hello' as the third value? (Assume [2, 4, 6, 8, 10] are in spam.)"
   ]
  },
  {
   "cell_type": "markdown",
   "id": "060e2c69",
   "metadata": {},
   "source": [
    "Using insert() method of a list as below.\n",
    "\n",
    "spam.insert(2,'hello')"
   ]
  },
  {
   "cell_type": "raw",
   "id": "423f8ea2",
   "metadata": {},
   "source": [
    "Let's pretend the spam includes the list ['a', 'b', 'c', 'd'] for the next three queries.\n",
    "3. What is the value of spam[int(int('3' * 2) / 11)]?"
   ]
  },
  {
   "cell_type": "markdown",
   "id": "1229cfdd",
   "metadata": {},
   "source": [
    "This will give the result as 'd'\n",
    "\n",
    "It is because '3' * 2 will give '33' and this will be converted to int giving 33/11 as next operation. 33/11 = 3 and spam[3] is 'd'"
   ]
  },
  {
   "cell_type": "raw",
   "id": "8ce064e4",
   "metadata": {},
   "source": [
    "4. What is the value of spam[-1]?"
   ]
  },
  {
   "cell_type": "markdown",
   "id": "c3acacbc",
   "metadata": {},
   "source": [
    "'d' will be spam[-1]"
   ]
  },
  {
   "cell_type": "raw",
   "id": "5b2ac5f6",
   "metadata": {},
   "source": [
    "5. What is the value of spam[:2]?"
   ]
  },
  {
   "cell_type": "markdown",
   "id": "aee904e7",
   "metadata": {},
   "source": [
    "['a','b'] will be the result since from position is considered as 0 by default and increment is considered as 1 by default."
   ]
  },
  {
   "cell_type": "raw",
   "id": "3a167c0b",
   "metadata": {},
   "source": [
    "Let's pretend bacon has the list [3.14, 'cat', 11, 'cat', True] for the next three questions.\n",
    "6. What is the value of bacon.index('cat')?"
   ]
  },
  {
   "cell_type": "markdown",
   "id": "65dc4015",
   "metadata": {},
   "source": [
    "This will give syntax error since the comma (,) should have come after the single quote (') which makes as a valid list. When we execute bacon = [3.14, 'cat,' 11, 'cat,' True], this gives a syntax error.\n",
    "\n",
    "But thinking it is a typo error I have considered [3.14, 'cat', 11, 'cat', True] as a list which gives the below result as 1.\n",
    "bacon.index('cat') gives 1 as an answer."
   ]
  },
  {
   "cell_type": "raw",
   "id": "9f83e9c6",
   "metadata": {},
   "source": [
    "7. How does bacon.append(99) change the look of the list value in bacon?"
   ]
  },
  {
   "cell_type": "markdown",
   "id": "e8239325",
   "metadata": {},
   "source": [
    "[3,14, 'cat', 11, 'cat', True, 99]"
   ]
  },
  {
   "cell_type": "raw",
   "id": "1c31692a",
   "metadata": {},
   "source": [
    "8. How does bacon.remove('cat') change the look of the list in bacon?"
   ]
  },
  {
   "cell_type": "markdown",
   "id": "31ccb719",
   "metadata": {},
   "source": [
    "[3.14,11,'cat',True,99]"
   ]
  },
  {
   "cell_type": "raw",
   "id": "415d065b",
   "metadata": {},
   "source": [
    "9. What are the list concatenation and list replication operators?"
   ]
  },
  {
   "cell_type": "markdown",
   "id": "70cc1aff",
   "metadata": {},
   "source": [
    "List Concatenation operator is '+' and List Replication operator is '*'"
   ]
  },
  {
   "cell_type": "raw",
   "id": "5bd4596b",
   "metadata": {},
   "source": [
    "10. What is difference between the list methods append() and insert()?"
   ]
  },
  {
   "cell_type": "markdown",
   "id": "0154c4e8",
   "metadata": {},
   "source": [
    "List method append() will add the value to the end of the list. This will have only one parameter which is value to be inserted.\n",
    "\n",
    "List method insert() will add the passed in value at the the index passed in the parameter. This will have 2 parameters. The first parameter is the index where the value is to be inserted and second parameter is the value to be inserted."
   ]
  },
  {
   "cell_type": "raw",
   "id": "fdd215c1",
   "metadata": {},
   "source": [
    "11. What are the two methods for removing items from a list?"
   ]
  },
  {
   "cell_type": "markdown",
   "id": "3e35e0d8",
   "metadata": {},
   "source": [
    "POP() and REMOVE() are the 2 methods to remove items from a list.\n",
    "\n",
    "POP will remove based on the index passed in and REMOVE will remove the first occurance of the value passed in."
   ]
  },
  {
   "cell_type": "raw",
   "id": "3547fab9",
   "metadata": {},
   "source": [
    "12. Describe how list values and string values are identical."
   ]
  },
  {
   "cell_type": "markdown",
   "id": "dbbbc5d6",
   "metadata": {},
   "source": [
    "Both are iterable objects in python and can be accessed one by one in both. In list it will be each element we can access and in case of string it will be character which can be accessed.\n",
    "\n",
    "Only difference is List can have different data types of data whereas string can hold only characters or any value enclosed in quotes which again called string. List is a mutable object but String is an immutable object"
   ]
  },
  {
   "cell_type": "raw",
   "id": "892c365d",
   "metadata": {},
   "source": [
    "13. What's the difference between tuples and lists?"
   ]
  },
  {
   "cell_type": "markdown",
   "id": "ef8becca",
   "metadata": {},
   "source": [
    "Tuples are immutable and lists are mutable objects which means lists can be changed whereas tuples cannot be changed."
   ]
  },
  {
   "cell_type": "raw",
   "id": "6dc4f54e",
   "metadata": {},
   "source": [
    "14. How do you type a tuple value that only contains the integer 42?"
   ]
  },
  {
   "cell_type": "markdown",
   "id": "4f7f391a",
   "metadata": {},
   "source": [
    "t1 = (42,) \n",
    "\n",
    "If we give comma if there is a single int value in the tuple, it will be considered as tuple. Otherwise it will be considered as Int."
   ]
  },
  {
   "cell_type": "raw",
   "id": "d6082486",
   "metadata": {},
   "source": [
    "15. How do you get a list value's tuple form? How do you get a tuple value's list form?"
   ]
  },
  {
   "cell_type": "markdown",
   "id": "52f663b1",
   "metadata": {},
   "source": [
    "Internal function tuple() converts list to tuple and list() will convert tuple to list.\n",
    "\n",
    "t1 = list(l1)\n",
    "l2 = tuple(t2)\n",
    "\n",
    "where l1, l2 are lists and t1,t2 are tuples"
   ]
  },
  {
   "cell_type": "raw",
   "id": "36c0c1e0",
   "metadata": {},
   "source": [
    "16. Variables that \"contain\" list values are not necessarily lists themselves. Instead, what do they contain?"
   ]
  },
  {
   "cell_type": "markdown",
   "id": "5ceaefe1",
   "metadata": {},
   "source": [
    "They contain references to the values and not the values directly unlike string and integer types. "
   ]
  },
  {
   "cell_type": "raw",
   "id": "c4a80a33",
   "metadata": {},
   "source": [
    "17. How do you distinguish between copy.copy() and copy.deepcopy()?"
   ]
  },
  {
   "cell_type": "markdown",
   "id": "4a48d4ff",
   "metadata": {},
   "source": [
    "copy is a package which is having functions copy() and deepcopy() and they can be called as copy.copy() and copy.deepcopy()"
   ]
  }
 ],
 "metadata": {
  "kernelspec": {
   "display_name": "Python 3 (ipykernel)",
   "language": "python",
   "name": "python3"
  },
  "language_info": {
   "codemirror_mode": {
    "name": "ipython",
    "version": 3
   },
   "file_extension": ".py",
   "mimetype": "text/x-python",
   "name": "python",
   "nbconvert_exporter": "python",
   "pygments_lexer": "ipython3",
   "version": "3.9.7"
  }
 },
 "nbformat": 4,
 "nbformat_minor": 5
}
