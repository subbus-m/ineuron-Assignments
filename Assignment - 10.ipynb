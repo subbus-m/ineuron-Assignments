{
 "cells": [
  {
   "cell_type": "markdown",
   "id": "373f2833",
   "metadata": {},
   "source": [
    "# Assignment - 10"
   ]
  },
  {
   "cell_type": "markdown",
   "id": "e18146f7",
   "metadata": {},
   "source": [
    "1. How do you distinguish between shutil.copy() and shutil.copytree()?"
   ]
  },
  {
   "cell_type": "raw",
   "id": "f952d6a8",
   "metadata": {},
   "source": [
    "shutil.copy() will copy a single file, whereas shutil.copytree() will copy entire folder and files in it."
   ]
  },
  {
   "cell_type": "markdown",
   "id": "ccb1fba6",
   "metadata": {},
   "source": [
    "2. What function is used to rename files??"
   ]
  },
  {
   "cell_type": "raw",
   "id": "5aecd42e",
   "metadata": {},
   "source": [
    "shutil.move() is used to rename files as well as moving them."
   ]
  },
  {
   "cell_type": "markdown",
   "id": "9892a213",
   "metadata": {},
   "source": [
    "3. What is the difference between the delete functions in the send2trash and shutil modules?"
   ]
  },
  {
   "cell_type": "raw",
   "id": "4cab07f3",
   "metadata": {},
   "source": [
    "send2trash function will move the files to recycle bin whereas shutil module will permanently delete the files or folders."
   ]
  },
  {
   "cell_type": "markdown",
   "id": "84ed5da2",
   "metadata": {},
   "source": [
    "4.ZipFile objects have a close() method just like File objects’ close() method. What ZipFile method is equivalent to File objects’ open() method?"
   ]
  },
  {
   "cell_type": "raw",
   "id": "3bc0a930",
   "metadata": {},
   "source": [
    "The zipfile.ZipFile() function is equivalent to open() method. The first argument is the file name and the second argument is the mode in which file has to be opened."
   ]
  },
  {
   "cell_type": "markdown",
   "id": "e00ac466",
   "metadata": {},
   "source": [
    "5. Create a programme that searches a folder tree for files with a certain file extension (such as .pdf or .jpg). Copy these files from whatever location they are in to a new folder."
   ]
  },
  {
   "cell_type": "raw",
   "id": "d3784b4e",
   "metadata": {},
   "source": [
    "import os\n",
    "import shutil\n",
    "os.chdir(path)\n",
    "for fl in os.listdir(path):\n",
    "    if fl.endswith('pdf'):\n",
    "        shutil.copytree(path+'fl',dest)        "
   ]
  }
 ],
 "metadata": {
  "kernelspec": {
   "display_name": "Python 3 (ipykernel)",
   "language": "python",
   "name": "python3"
  },
  "language_info": {
   "codemirror_mode": {
    "name": "ipython",
    "version": 3
   },
   "file_extension": ".py",
   "mimetype": "text/x-python",
   "name": "python",
   "nbconvert_exporter": "python",
   "pygments_lexer": "ipython3",
   "version": "3.9.7"
  }
 },
 "nbformat": 4,
 "nbformat_minor": 5
}
