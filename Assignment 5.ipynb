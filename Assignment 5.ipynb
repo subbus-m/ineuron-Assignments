{
 "cells": [
  {
   "cell_type": "markdown",
   "id": "18abb2e6",
   "metadata": {},
   "source": [
    "# Assignment 5"
   ]
  },
  {
   "cell_type": "markdown",
   "id": "337c6a61",
   "metadata": {},
   "source": [
    "1. What does an empty dictionary's code look like?"
   ]
  },
  {
   "cell_type": "raw",
   "id": "1cd97c4f",
   "metadata": {},
   "source": [
    "d = {}\n",
    "\n",
    "This is how empty dictionary's code look like. When we need to create empty dictionary, this is how we create it."
   ]
  },
  {
   "cell_type": "markdown",
   "id": "40ee1d09",
   "metadata": {},
   "source": [
    "2. What is the value of a dictionary value with the key 'foo' and the value 42? "
   ]
  },
  {
   "cell_type": "raw",
   "id": "b7d63906",
   "metadata": {},
   "source": [
    "It looks like this {'foo':42} when the key is 'foo' and the value is 42"
   ]
  },
  {
   "cell_type": "markdown",
   "id": "d844dc0f",
   "metadata": {},
   "source": [
    "3. What is the most significant distinction between a dictionary and a list?"
   ]
  },
  {
   "cell_type": "raw",
   "id": "ccf20163",
   "metadata": {},
   "source": [
    "Dictionary will have a key and value pair enclosed in {} whereas a list will have a group of elements enclosed in [].\n",
    "Dictionary can save any type of data in key value pair. List will have single elements one by one."
   ]
  },
  {
   "cell_type": "markdown",
   "id": "57341a25",
   "metadata": {},
   "source": [
    "4. What happens if you try to access spam['foo'] if spam is {'bar': 100}?"
   ]
  },
  {
   "cell_type": "raw",
   "id": "1593a69b",
   "metadata": {},
   "source": [
    "We will get a KeyError which says that key is not present in the dictionary."
   ]
  },
  {
   "cell_type": "markdown",
   "id": "0af6437c",
   "metadata": {},
   "source": [
    "5. If a dictionary is stored in spam, what is the difference between the expressions 'cat' in spam and 'cat' in spam.keys()?"
   ]
  },
  {
   "cell_type": "raw",
   "id": "c54f0988",
   "metadata": {},
   "source": [
    "Both would be the same because when we code as 'cat' in spam it looks for the keys in the dictionary and even when we give 'cat' in spam.keys() also it will check 'cat' in keys of the dictionary."
   ]
  },
  {
   "cell_type": "markdown",
   "id": "c86fbf98",
   "metadata": {},
   "source": [
    "6. If a dictionary is stored in spam, what is the difference between the expressions 'cat' in spam and 'cat' in spam.values()?"
   ]
  },
  {
   "cell_type": "raw",
   "id": "c673dd24",
   "metadata": {},
   "source": [
    "'cat' in spam will search 'cat' in the keys of the dictionary and 'cat' in spam.values() will search 'cat' in values of the dictionary."
   ]
  },
  {
   "cell_type": "markdown",
   "id": "ed9da3e2",
   "metadata": {},
   "source": [
    "7. What is a shortcut for the following code?\n",
    "\n",
    "if 'color' not in spam:\n",
    "\n",
    "spam['color'] = 'black'"
   ]
  },
  {
   "cell_type": "raw",
   "id": "cb44203d",
   "metadata": {},
   "source": [
    "spam.setdefault('color','black') will insert key value pair in the dictionary spam"
   ]
  },
  {
   "cell_type": "markdown",
   "id": "b640f2b5",
   "metadata": {},
   "source": [
    "8. How do you \"pretty print\" dictionary values using which module and function?"
   ]
  },
  {
   "cell_type": "raw",
   "id": "539e64cd",
   "metadata": {},
   "source": [
    "We can use 'pprint' module to print the dictionary in the exact format it is.\n",
    "We would need to import pprint module using 'import' command and then use this function pprint. Both the module and function name is 'pprint'. We can give the statement as below.\n",
    "\n",
    "pprint.ppring(spam)\n",
    "where spam is a dictionary."
   ]
  }
 ],
 "metadata": {
  "kernelspec": {
   "display_name": "Python 3 (ipykernel)",
   "language": "python",
   "name": "python3"
  },
  "language_info": {
   "codemirror_mode": {
    "name": "ipython",
    "version": 3
   },
   "file_extension": ".py",
   "mimetype": "text/x-python",
   "name": "python",
   "nbconvert_exporter": "python",
   "pygments_lexer": "ipython3",
   "version": "3.9.7"
  }
 },
 "nbformat": 4,
 "nbformat_minor": 5
}
