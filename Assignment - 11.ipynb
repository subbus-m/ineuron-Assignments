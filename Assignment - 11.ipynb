{
 "cells": [
  {
   "cell_type": "markdown",
   "id": "5424498d",
   "metadata": {},
   "source": [
    "# Assignment - 11"
   ]
  },
  {
   "cell_type": "markdown",
   "id": "bbbbe9c8",
   "metadata": {},
   "source": [
    "1. Create an assert statement that throws an AssertionError if the variable spam is a negative integer."
   ]
  },
  {
   "cell_type": "raw",
   "id": "f58ad197",
   "metadata": {},
   "source": [
    "assert spam < 0, 'Invalid Number. Number should be positive'"
   ]
  },
  {
   "cell_type": "markdown",
   "id": "6d3c6899",
   "metadata": {},
   "source": [
    "2. Write an assert statement that triggers an AssertionError if the variables eggs and bacon contain strings that are the same as each other, even if their cases are different (that is, 'hello' and 'hello' are considered the same, and 'goodbye' and 'GOODbye' are also considered the same)."
   ]
  },
  {
   "cell_type": "raw",
   "id": "14e667fa",
   "metadata": {},
   "source": [
    "assert eggs.lower() == bacon.lower(), 'Both Strings cannot be equal'"
   ]
  },
  {
   "cell_type": "markdown",
   "id": "644d68ce",
   "metadata": {},
   "source": [
    "3. Create an assert statement that throws an AssertionError every time."
   ]
  },
  {
   "cell_type": "raw",
   "id": "ebaa7fd7",
   "metadata": {},
   "source": [
    "assert 1 == 1, 'This always triggers Assertion error'"
   ]
  },
  {
   "cell_type": "markdown",
   "id": "33460090",
   "metadata": {},
   "source": [
    "4. What are the two lines that must be present in your software in order to call logging.debug()?"
   ]
  },
  {
   "cell_type": "raw",
   "id": "22af89d7",
   "metadata": {},
   "source": [
    "Below are 2 lines needed.\n",
    "\n",
    "import logging\n",
    "logging.basicConfig(level=logging.DEBUG, format=' %(asctime)s - %(levelname)s - %(message)s')"
   ]
  },
  {
   "cell_type": "markdown",
   "id": "88268ff8",
   "metadata": {},
   "source": [
    "5. What are the two lines that your program must have in order to have logging.debug() send a logging message to a file named programLog.txt?"
   ]
  },
  {
   "cell_type": "raw",
   "id": "01ec65ba",
   "metadata": {},
   "source": [
    "import logging\n",
    "logging.basicConfig(filename = 'programLog.txt', level=logging.DEBUG, format=' %(asctime)s - %(levelname)s - %(message)s')"
   ]
  },
  {
   "cell_type": "markdown",
   "id": "b739453b",
   "metadata": {},
   "source": [
    "6. What are the five levels of logging?"
   ]
  },
  {
   "cell_type": "raw",
   "id": "0ae75511",
   "metadata": {},
   "source": [
    "The five levels of logging are as below.\n",
    "\n",
    "1. Debug\n",
    "2. Info\n",
    "3. Warning\n",
    "4. Error\n",
    "5. Critical"
   ]
  },
  {
   "cell_type": "markdown",
   "id": "d4f2a457",
   "metadata": {},
   "source": [
    "7. What line of code would you add to your software to disable all logging messages?"
   ]
  },
  {
   "cell_type": "raw",
   "id": "2a1211e9",
   "metadata": {},
   "source": [
    "logging.disable(logging.CRITICAL)"
   ]
  },
  {
   "cell_type": "markdown",
   "id": "43f6a8d0",
   "metadata": {},
   "source": [
    "8. Why is using logging messages better than using print() to display the same message?"
   ]
  },
  {
   "cell_type": "raw",
   "id": "b5545179",
   "metadata": {},
   "source": [
    "We can disable logging messages without removing the log statements by disabling the logging using above statement. Also we can seggregate the level of logging like Debug, info, error, warning and critical seperately and we can even log some of them. \n",
    "\n",
    "We can even have the timestamp along with logging when the log is created exactly.\n",
    "These are the advantages of having logging instead of Print() statements. We will also have these logs permanently in a file which can be accessed and viewed later whenever needed."
   ]
  },
  {
   "cell_type": "markdown",
   "id": "77e7a8bd",
   "metadata": {},
   "source": [
    "9. What are the differences between the Step Over, Step In, and Step Out buttons in the debugger?"
   ]
  },
  {
   "cell_type": "raw",
   "id": "74cdd809",
   "metadata": {},
   "source": [
    "The Step button will move the debugger into a function call. \n",
    "The Over button will quickly execute the function call without stepping into it. \n",
    "The Out button will quickly execute the rest of the code until it steps out of the function it currently is in."
   ]
  },
  {
   "cell_type": "markdown",
   "id": "e5a49619",
   "metadata": {},
   "source": [
    "10. After you click Continue, when will the debugger stop ?"
   ]
  },
  {
   "cell_type": "raw",
   "id": "5aae08cc",
   "metadata": {},
   "source": [
    "If there is any breakpoint, the control will be stopped at it and if there is no breakpoint specified, it will continue executing whole program."
   ]
  },
  {
   "cell_type": "markdown",
   "id": "1edc9ac9",
   "metadata": {},
   "source": [
    "11. What is the concept of a breakpoint?"
   ]
  },
  {
   "cell_type": "raw",
   "id": "37c90aed",
   "metadata": {},
   "source": [
    "The concept of breakpoint came to monitor execution of specific statements of code or program.\n",
    "When we need to go step by step executing the code to understand better we use debugging. If we want the execution at a particular line of code or specific statement needs to be monitored, then we need a breakpoint there and we can stop execution at that particular line and monitor it."
   ]
  }
 ],
 "metadata": {
  "kernelspec": {
   "display_name": "Python 3 (ipykernel)",
   "language": "python",
   "name": "python3"
  },
  "language_info": {
   "codemirror_mode": {
    "name": "ipython",
    "version": 3
   },
   "file_extension": ".py",
   "mimetype": "text/x-python",
   "name": "python",
   "nbconvert_exporter": "python",
   "pygments_lexer": "ipython3",
   "version": "3.9.7"
  }
 },
 "nbformat": 4,
 "nbformat_minor": 5
}
