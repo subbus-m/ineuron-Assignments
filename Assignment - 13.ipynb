{
 "cells": [
  {
   "cell_type": "markdown",
   "id": "ea6fc393",
   "metadata": {},
   "source": [
    "# Assignment - 13"
   ]
  },
  {
   "cell_type": "markdown",
   "id": "ee4cea35",
   "metadata": {},
   "source": [
    "1. What advantages do Excel spreadsheets have over CSV spreadsheets?"
   ]
  },
  {
   "cell_type": "raw",
   "id": "ce622382",
   "metadata": {},
   "source": [
    "Excel Spreadsheets have many more advantages to CSV Spreadsheets. Some of them are below.\n",
    "\n",
    "1. Excel can have many data types other than String.\n",
    "2. Excel can have cells with different sizes, fonts, colors\n",
    "3. Excel has many functionalities like Sort, Filter, merge cells, freeze cells and many other customizations are possible.\n",
    "4. Excel will even have charts, images."
   ]
  },
  {
   "cell_type": "markdown",
   "id": "b05943ef",
   "metadata": {},
   "source": [
    "2. What do you pass to csv.reader() and csv.writer() to create reader and writer objects?"
   ]
  },
  {
   "cell_type": "raw",
   "id": "e37c0d68",
   "metadata": {},
   "source": [
    "We can pass a file object which is created while opening the file."
   ]
  },
  {
   "cell_type": "markdown",
   "id": "06e2de18",
   "metadata": {},
   "source": [
    "3. What modes do File objects for reader and writer objects need to be opened in?"
   ]
  },
  {
   "cell_type": "raw",
   "id": "6516c158",
   "metadata": {},
   "source": [
    "For reader, File need to be opened in Read-binary Mode (rb) and for writer objects, file need to be opened in write-binary mode (wb)"
   ]
  },
  {
   "cell_type": "markdown",
   "id": "c20e5822",
   "metadata": {},
   "source": [
    "4. What method takes a list argument and writes it to a CSV file?"
   ]
  },
  {
   "cell_type": "raw",
   "id": "d0044f62",
   "metadata": {},
   "source": [
    "writerrow() method does this."
   ]
  },
  {
   "cell_type": "markdown",
   "id": "8021c70b",
   "metadata": {},
   "source": [
    "5. What do the keyword arguments delimiter and line terminator do?"
   ]
  },
  {
   "cell_type": "raw",
   "id": "9192cc3f",
   "metadata": {},
   "source": [
    "Delimiter argument is used to change the string which is used to seperate cells.\n",
    "Line terminator argument is sued to change the string which is used to seperate rows."
   ]
  },
  {
   "cell_type": "markdown",
   "id": "7d5a91ce",
   "metadata": {},
   "source": [
    "6. What function takes a string of JSON data and returns a Python data structure?"
   ]
  },
  {
   "cell_type": "raw",
   "id": "3b5fbabd",
   "metadata": {},
   "source": [
    "json.loads() method does this."
   ]
  },
  {
   "cell_type": "markdown",
   "id": "14ba5168",
   "metadata": {},
   "source": [
    "7. What function takes a Python data structure and returns a string of JSON data?"
   ]
  },
  {
   "cell_type": "raw",
   "id": "33314acc",
   "metadata": {},
   "source": [
    "json.dumps() does this."
   ]
  }
 ],
 "metadata": {
  "kernelspec": {
   "display_name": "Python 3 (ipykernel)",
   "language": "python",
   "name": "python3"
  },
  "language_info": {
   "codemirror_mode": {
    "name": "ipython",
    "version": 3
   },
   "file_extension": ".py",
   "mimetype": "text/x-python",
   "name": "python",
   "nbconvert_exporter": "python",
   "pygments_lexer": "ipython3",
   "version": "3.9.7"
  }
 },
 "nbformat": 4,
 "nbformat_minor": 5
}
